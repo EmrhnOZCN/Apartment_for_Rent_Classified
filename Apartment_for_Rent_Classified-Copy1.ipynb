{
 "cells": [
  {
   "cell_type": "code",
   "execution_count": 44,
   "id": "5ac12b90",
   "metadata": {},
   "outputs": [],
   "source": [
    "import pandas as pd\n",
    "import numpy as np\n",
    "import matplotlib.pyplot as plt\n",
    "import seaborn as sns\n",
    "from sklearn.model_selection import train_test_split, GridSearchCV\n",
    "from sklearn.preprocessing import LabelEncoder, MinMaxScaler\n",
    "from sklearn.neighbors import KNeighborsClassifier\n",
    "from sklearn.tree import DecisionTreeClassifier\n",
    "from sklearn.ensemble import RandomForestClassifier\n",
    "from sklearn.naive_bayes import GaussianNB\n",
    "from sklearn.metrics import accuracy_score, classification_report, confusion_matrix\n",
    "import warnings\n",
    "\n",
    "warnings.filterwarnings('ignore')\n",
    "\n",
    "data = pd.read_csv(\"C:/Users/Emirhan/Desktop/verimaden/apartments_for_rent_classified_100K.csv\", delimiter=';', encoding='ISO-8859-1')\n",
    "\n",
    "\n"
   ]
  },
  {
   "cell_type": "code",
   "execution_count": 45,
   "id": "0421de2b",
   "metadata": {},
   "outputs": [
    {
     "data": {
      "text/html": [
       "<div>\n",
       "<style scoped>\n",
       "    .dataframe tbody tr th:only-of-type {\n",
       "        vertical-align: middle;\n",
       "    }\n",
       "\n",
       "    .dataframe tbody tr th {\n",
       "        vertical-align: top;\n",
       "    }\n",
       "\n",
       "    .dataframe thead th {\n",
       "        text-align: right;\n",
       "    }\n",
       "</style>\n",
       "<table border=\"1\" class=\"dataframe\">\n",
       "  <thead>\n",
       "    <tr style=\"text-align: right;\">\n",
       "      <th></th>\n",
       "      <th>id</th>\n",
       "      <th>category</th>\n",
       "      <th>title</th>\n",
       "      <th>body</th>\n",
       "      <th>amenities</th>\n",
       "      <th>bathrooms</th>\n",
       "      <th>bedrooms</th>\n",
       "      <th>currency</th>\n",
       "      <th>fee</th>\n",
       "      <th>has_photo</th>\n",
       "      <th>...</th>\n",
       "      <th>price_display</th>\n",
       "      <th>price_type</th>\n",
       "      <th>square_feet</th>\n",
       "      <th>address</th>\n",
       "      <th>cityname</th>\n",
       "      <th>state</th>\n",
       "      <th>latitude</th>\n",
       "      <th>longitude</th>\n",
       "      <th>source</th>\n",
       "      <th>time</th>\n",
       "    </tr>\n",
       "  </thead>\n",
       "  <tbody>\n",
       "    <tr>\n",
       "      <th>0</th>\n",
       "      <td>5668640009</td>\n",
       "      <td>housing/rent/apartment</td>\n",
       "      <td>One BR 507 &amp; 509 Esplanade</td>\n",
       "      <td>This unit is located at 507 &amp; 509 Esplanade, R...</td>\n",
       "      <td>NaN</td>\n",
       "      <td>1.0</td>\n",
       "      <td>1.0</td>\n",
       "      <td>USD</td>\n",
       "      <td>No</td>\n",
       "      <td>Thumbnail</td>\n",
       "      <td>...</td>\n",
       "      <td>$2,195</td>\n",
       "      <td>Monthly</td>\n",
       "      <td>542</td>\n",
       "      <td>507  509 Esplanade</td>\n",
       "      <td>Redondo Beach</td>\n",
       "      <td>CA</td>\n",
       "      <td>33.8520</td>\n",
       "      <td>-118.3759</td>\n",
       "      <td>RentLingo</td>\n",
       "      <td>1577360355</td>\n",
       "    </tr>\n",
       "    <tr>\n",
       "      <th>1</th>\n",
       "      <td>5668639818</td>\n",
       "      <td>housing/rent/apartment</td>\n",
       "      <td>Three BR 146 Lochview Drive</td>\n",
       "      <td>This unit is located at 146 Lochview Drive, Ne...</td>\n",
       "      <td>NaN</td>\n",
       "      <td>1.5</td>\n",
       "      <td>3.0</td>\n",
       "      <td>USD</td>\n",
       "      <td>No</td>\n",
       "      <td>Thumbnail</td>\n",
       "      <td>...</td>\n",
       "      <td>$1,250</td>\n",
       "      <td>Monthly</td>\n",
       "      <td>1500</td>\n",
       "      <td>146 Lochview Dr</td>\n",
       "      <td>Newport News</td>\n",
       "      <td>VA</td>\n",
       "      <td>37.0867</td>\n",
       "      <td>-76.4941</td>\n",
       "      <td>RentLingo</td>\n",
       "      <td>1577360340</td>\n",
       "    </tr>\n",
       "    <tr>\n",
       "      <th>2</th>\n",
       "      <td>5668639686</td>\n",
       "      <td>housing/rent/apartment</td>\n",
       "      <td>Three BR 3101 Morningside Drive</td>\n",
       "      <td>This unit is located at 3101 Morningside Drive...</td>\n",
       "      <td>NaN</td>\n",
       "      <td>2.0</td>\n",
       "      <td>3.0</td>\n",
       "      <td>USD</td>\n",
       "      <td>No</td>\n",
       "      <td>Thumbnail</td>\n",
       "      <td>...</td>\n",
       "      <td>$1,395</td>\n",
       "      <td>Monthly</td>\n",
       "      <td>1650</td>\n",
       "      <td>3101 Morningside Dr</td>\n",
       "      <td>Raleigh</td>\n",
       "      <td>NC</td>\n",
       "      <td>35.8230</td>\n",
       "      <td>-78.6438</td>\n",
       "      <td>RentLingo</td>\n",
       "      <td>1577360332</td>\n",
       "    </tr>\n",
       "    <tr>\n",
       "      <th>3</th>\n",
       "      <td>5668639659</td>\n",
       "      <td>housing/rent/apartment</td>\n",
       "      <td>Two BR 209 Aegean Way</td>\n",
       "      <td>This unit is located at 209 Aegean Way, Vacavi...</td>\n",
       "      <td>NaN</td>\n",
       "      <td>1.0</td>\n",
       "      <td>2.0</td>\n",
       "      <td>USD</td>\n",
       "      <td>No</td>\n",
       "      <td>Thumbnail</td>\n",
       "      <td>...</td>\n",
       "      <td>$1,600</td>\n",
       "      <td>Monthly</td>\n",
       "      <td>820</td>\n",
       "      <td>209 Aegean Way</td>\n",
       "      <td>Vacaville</td>\n",
       "      <td>CA</td>\n",
       "      <td>38.3622</td>\n",
       "      <td>-121.9712</td>\n",
       "      <td>RentLingo</td>\n",
       "      <td>1577360330</td>\n",
       "    </tr>\n",
       "    <tr>\n",
       "      <th>4</th>\n",
       "      <td>5668639374</td>\n",
       "      <td>housing/rent/apartment</td>\n",
       "      <td>One BR 4805 Marquette NE</td>\n",
       "      <td>This unit is located at 4805 Marquette NE, Alb...</td>\n",
       "      <td>NaN</td>\n",
       "      <td>1.0</td>\n",
       "      <td>1.0</td>\n",
       "      <td>USD</td>\n",
       "      <td>No</td>\n",
       "      <td>Thumbnail</td>\n",
       "      <td>...</td>\n",
       "      <td>$975</td>\n",
       "      <td>Monthly</td>\n",
       "      <td>624</td>\n",
       "      <td>4805 Marquette NE</td>\n",
       "      <td>Albuquerque</td>\n",
       "      <td>NM</td>\n",
       "      <td>35.1038</td>\n",
       "      <td>-106.6110</td>\n",
       "      <td>RentLingo</td>\n",
       "      <td>1577360308</td>\n",
       "    </tr>\n",
       "  </tbody>\n",
       "</table>\n",
       "<p>5 rows × 22 columns</p>\n",
       "</div>"
      ],
      "text/plain": [
       "           id                category                            title  \\\n",
       "0  5668640009  housing/rent/apartment       One BR 507 & 509 Esplanade   \n",
       "1  5668639818  housing/rent/apartment      Three BR 146 Lochview Drive   \n",
       "2  5668639686  housing/rent/apartment  Three BR 3101 Morningside Drive   \n",
       "3  5668639659  housing/rent/apartment            Two BR 209 Aegean Way   \n",
       "4  5668639374  housing/rent/apartment         One BR 4805 Marquette NE   \n",
       "\n",
       "                                                body amenities  bathrooms  \\\n",
       "0  This unit is located at 507 & 509 Esplanade, R...       NaN        1.0   \n",
       "1  This unit is located at 146 Lochview Drive, Ne...       NaN        1.5   \n",
       "2  This unit is located at 3101 Morningside Drive...       NaN        2.0   \n",
       "3  This unit is located at 209 Aegean Way, Vacavi...       NaN        1.0   \n",
       "4  This unit is located at 4805 Marquette NE, Alb...       NaN        1.0   \n",
       "\n",
       "   bedrooms currency fee  has_photo  ... price_display  price_type  \\\n",
       "0       1.0      USD  No  Thumbnail  ...        $2,195     Monthly   \n",
       "1       3.0      USD  No  Thumbnail  ...        $1,250     Monthly   \n",
       "2       3.0      USD  No  Thumbnail  ...        $1,395     Monthly   \n",
       "3       2.0      USD  No  Thumbnail  ...        $1,600     Monthly   \n",
       "4       1.0      USD  No  Thumbnail  ...          $975     Monthly   \n",
       "\n",
       "  square_feet              address       cityname state latitude longitude  \\\n",
       "0         542   507  509 Esplanade  Redondo Beach    CA  33.8520 -118.3759   \n",
       "1        1500      146 Lochview Dr   Newport News    VA  37.0867  -76.4941   \n",
       "2        1650  3101 Morningside Dr        Raleigh    NC  35.8230  -78.6438   \n",
       "3         820       209 Aegean Way      Vacaville    CA  38.3622 -121.9712   \n",
       "4         624    4805 Marquette NE    Albuquerque    NM  35.1038 -106.6110   \n",
       "\n",
       "      source        time  \n",
       "0  RentLingo  1577360355  \n",
       "1  RentLingo  1577360340  \n",
       "2  RentLingo  1577360332  \n",
       "3  RentLingo  1577360330  \n",
       "4  RentLingo  1577360308  \n",
       "\n",
       "[5 rows x 22 columns]"
      ]
     },
     "execution_count": 45,
     "metadata": {},
     "output_type": "execute_result"
    }
   ],
   "source": [
    "data.head()\n"
   ]
  },
  {
   "cell_type": "code",
   "execution_count": 46,
   "id": "8cf7fdbe",
   "metadata": {},
   "outputs": [
    {
     "data": {
      "text/plain": [
       "Index(['id', 'category', 'title', 'body', 'amenities', 'bathrooms', 'bedrooms',\n",
       "       'currency', 'fee', 'has_photo', 'pets_allowed', 'price',\n",
       "       'price_display', 'price_type', 'square_feet', 'address', 'cityname',\n",
       "       'state', 'latitude', 'longitude', 'source', 'time'],\n",
       "      dtype='object')"
      ]
     },
     "execution_count": 46,
     "metadata": {},
     "output_type": "execute_result"
    }
   ],
   "source": [
    "data.columns"
   ]
  },
  {
   "cell_type": "code",
   "execution_count": 47,
   "id": "fceb3d5e",
   "metadata": {},
   "outputs": [
    {
     "name": "stdout",
     "output_type": "stream",
     "text": [
      "<class 'pandas.core.frame.DataFrame'>\n",
      "RangeIndex: 99492 entries, 0 to 99491\n",
      "Data columns (total 22 columns):\n",
      " #   Column         Non-Null Count  Dtype  \n",
      "---  ------         --------------  -----  \n",
      " 0   id             99492 non-null  int64  \n",
      " 1   category       99492 non-null  object \n",
      " 2   title          99492 non-null  object \n",
      " 3   body           99492 non-null  object \n",
      " 4   amenities      83448 non-null  object \n",
      " 5   bathrooms      99429 non-null  float64\n",
      " 6   bedrooms       99368 non-null  float64\n",
      " 7   currency       99492 non-null  object \n",
      " 8   fee            99492 non-null  object \n",
      " 9   has_photo      99492 non-null  object \n",
      " 10  pets_allowed   44138 non-null  object \n",
      " 11  price          99491 non-null  float64\n",
      " 12  price_display  99491 non-null  object \n",
      " 13  price_type     99492 non-null  object \n",
      " 14  square_feet    99492 non-null  int64  \n",
      " 15  address        7943 non-null   object \n",
      " 16  cityname       99190 non-null  object \n",
      " 17  state          99190 non-null  object \n",
      " 18  latitude       99467 non-null  float64\n",
      " 19  longitude      99467 non-null  float64\n",
      " 20  source         99492 non-null  object \n",
      " 21  time           99492 non-null  int64  \n",
      "dtypes: float64(5), int64(3), object(14)\n",
      "memory usage: 16.7+ MB\n"
     ]
    }
   ],
   "source": [
    "data.info()"
   ]
  },
  {
   "cell_type": "code",
   "execution_count": 48,
   "id": "96cf23b5",
   "metadata": {
    "scrolled": true
   },
   "outputs": [
    {
     "data": {
      "text/plain": [
       "(99492, 22)"
      ]
     },
     "execution_count": 48,
     "metadata": {},
     "output_type": "execute_result"
    }
   ],
   "source": [
    "data.shape"
   ]
  },
  {
   "cell_type": "markdown",
   "id": "7a553773",
   "metadata": {},
   "source": [
    "## Aykırı değerleri filtrele"
   ]
  },
  {
   "cell_type": "code",
   "execution_count": 49,
   "id": "caa4305b",
   "metadata": {},
   "outputs": [],
   "source": [
    "def filter_outliers_by_city(df):\n",
    "    filtered_data = pd.DataFrame()\n",
    "    \n",
    "    for city in df['cityname'].unique():\n",
    "        city_data = df[df['cityname'] == city]\n",
    "        Q1 = city_data['price'].quantile(0.25)\n",
    "        Q3 = city_data['price'].quantile(0.75)\n",
    "        IQR = Q3 - Q1\n",
    "        \n",
    "        lower_bound = Q1 - 1.5 * IQR\n",
    "        upper_bound = Q3 + 1.5 * IQR\n",
    "        \n",
    "        filtered_city_data = city_data[(city_data['price'] >= lower_bound) & (city_data['price'] <= upper_bound)]\n",
    "        filtered_data = pd.concat([filtered_data, filtered_city_data])\n",
    "    \n",
    "    return filtered_data\n",
    "\n",
    "\n",
    "data = filter_outliers_by_city(data)\n"
   ]
  },
  {
   "cell_type": "code",
   "execution_count": 50,
   "id": "770bbc63",
   "metadata": {},
   "outputs": [
    {
     "data": {
      "image/png": "[encoded data removed]",
      "text/plain": [
       "<Figure size 1008x504 with 2 Axes>"
      ]
     },
     "metadata": {
      "needs_background": "light"
     },
     "output_type": "display_data"
    }
   ],
   "source": [
    "# Şehir bazında kira ortalamalarını hesapla\n",
    "city_mean_prices = data.groupby('cityname')['price'].mean()\n",
    "\n",
    "# NaN değerleri temizle\n",
    "city_mean_prices = city_mean_prices.dropna()\n",
    "\n",
    "# En yüksek ve en düşük kira ortalamasına sahip şehirler\n",
    "highest_mean_city = city_mean_prices.idxmax()\n",
    "lowest_mean_city = city_mean_prices.idxmin()\n",
    "\n",
    "# En yüksek ve en düşük kira ortalamasına sahip şehirleri gösteren grafik\n",
    "plt.figure(figsize=(14, 7))\n",
    "\n",
    "# Yan yana çubuk grafikler\n",
    "plt.subplot(1, 2, 1)\n",
    "sns.barplot(x=[highest_mean_city], y=[city_mean_prices[highest_mean_city]], color='red')\n",
    "plt.title(f'En Yüksek Kira Ortalamasına Sahip Şehir: {highest_mean_city}')\n",
    "plt.xlabel('Şehir')\n",
    "plt.ylabel('Ortalama Fiyat')\n",
    "\n",
    "plt.subplot(1, 2, 2)\n",
    "sns.barplot(x=[lowest_mean_city], y=[city_mean_prices[lowest_mean_city]], color='green')\n",
    "plt.title(f'En Düşük Kira Ortalamasına Sahip Şehir: {lowest_mean_city}')\n",
    "plt.xlabel('Şehir')\n",
    "plt.ylabel('Ortalama Fiyat')\n",
    "\n",
    "plt.tight_layout()\n",
    "plt.show()"
   ]
  },
  {
   "cell_type": "markdown",
   "id": "40b690a6",
   "metadata": {},
   "source": [
    "## Fiyat Aralıklarını Belirleme"
   ]
  },
  {
   "cell_type": "code",
   "execution_count": 51,
   "id": "6d7066c5",
   "metadata": {
    "scrolled": true
   },
   "outputs": [
    {
     "data": {
      "image/png": "[encoded data removed]",
      "text/plain": [
       "<Figure size 432x288 with 1 Axes>"
      ]
     },
     "metadata": {
      "needs_background": "light"
     },
     "output_type": "display_data"
    }
   ],
   "source": [
    "plt.hist(data['price'], bins=50, edgecolor='k')\n",
    "plt.xlabel('Fiyat')\n",
    "plt.ylabel('Frekans')\n",
    "plt.title('Fiyat Dağılımı')\n",
    "plt.show()"
   ]
  },
  {
   "cell_type": "code",
   "execution_count": 52,
   "id": "914d32fd",
   "metadata": {},
   "outputs": [
    {
     "name": "stdout",
     "output_type": "stream",
     "text": [
      "Ortalama Fiyat: 1472.4219768355133\n",
      "Medyan Fiyat: 1333.0\n",
      "1. Çeyrek: 1000.0\n",
      "3. Çeyrek: 1745.0\n",
      "Standart Sapma: 697.5730070061056\n"
     ]
    }
   ],
   "source": [
    "print(\"Ortalama Fiyat:\", data['price'].mean())\n",
    "print(\"Medyan Fiyat:\", data['price'].median())\n",
    "print(\"1. Çeyrek:\", data['price'].quantile(0.25))\n",
    "print(\"3. Çeyrek:\", data['price'].quantile(0.75))\n",
    "print(\"Standart Sapma:\", data['price'].std())"
   ]
  },
  {
   "cell_type": "code",
   "execution_count": 53,
   "id": "a42b25cf",
   "metadata": {},
   "outputs": [],
   "source": [
    "# Şehir bazında fiyat aralıklarını belirle ve kategorilere ayır\n",
    "def categorize_prices(df):\n",
    "    labels = ['Düşük', 'Orta', 'Yüksek', 'Çok Yüksek']\n",
    "    price_categories = pd.Series([None] * len(df), index=df.index)  # Boş bir seri oluştur\n",
    "    bins_dict = {}  # Şehirlerin bin aralıklarını saklamak için\n",
    "    for city in df['cityname'].unique():\n",
    "        city_data = df[df['cityname'] == city]\n",
    "        bins = [city_data['price'].min(), city_data['price'].quantile(0.25), city_data['price'].quantile(0.50), city_data['price'].quantile(0.75), city_data['price'].max()]\n",
    "        bins = np.unique(bins)  # Benzersiz binler oluştur\n",
    "        if len(bins) == 1:  # Tek benzersiz bin varsa\n",
    "            bins = [bins[0], bins[0] + 1]  # İki benzersiz bin oluştur\n",
    "        elif len(bins) < 4:\n",
    "            bins = np.append(bins, [bins[-1] + i for i in range(1, 5 - len(bins))])  # Eksik binleri ekle\n",
    "        bins[-1] = bins[-1] + 1  # Son bini biraz artır\n",
    "        city_categories = pd.cut(city_data['price'], bins=bins, labels=labels[:len(bins) - 1], include_lowest=True)\n",
    "        price_categories.update(city_categories)  # Fiyat kategorilerini güncelle\n",
    "        bins_dict[city] = bins  # Bin aralıklarını kaydet\n",
    "    df['price_category'] = price_categories\n",
    "    return df, bins_dict\n",
    "\n",
    "data, bins_dict = categorize_prices(data)\n"
   ]
  },
  {
   "cell_type": "code",
   "execution_count": 54,
   "id": "32aedaf5",
   "metadata": {},
   "outputs": [],
   "source": [
    "features_to_use = ['bathrooms', 'bedrooms', 'latitude', 'longitude', 'square_feet', 'has_photo', 'pets_allowed','cityname','price']\n",
    "\n",
    "X = data[features_to_use]\n",
    "y = data['price_category']"
   ]
  },
  {
   "cell_type": "code",
   "execution_count": 55,
   "id": "7a185fa9",
   "metadata": {},
   "outputs": [
    {
     "name": "stdout",
     "output_type": "stream",
     "text": [
      "X shape : (95491, 9)\n",
      "y shape : (95491,)\n"
     ]
    }
   ],
   "source": [
    "print(\"X shape :\",X.shape)\n",
    "print(\"y shape :\",y.shape)"
   ]
  },
  {
   "cell_type": "code",
   "execution_count": 56,
   "id": "a14e76e2",
   "metadata": {},
   "outputs": [
    {
     "data": {
      "text/html": [
       "<div>\n",
       "<style scoped>\n",
       "    .dataframe tbody tr th:only-of-type {\n",
       "        vertical-align: middle;\n",
       "    }\n",
       "\n",
       "    .dataframe tbody tr th {\n",
       "        vertical-align: top;\n",
       "    }\n",
       "\n",
       "    .dataframe thead th {\n",
       "        text-align: right;\n",
       "    }\n",
       "</style>\n",
       "<table border=\"1\" class=\"dataframe\">\n",
       "  <thead>\n",
       "    <tr style=\"text-align: right;\">\n",
       "      <th></th>\n",
       "      <th>bathrooms</th>\n",
       "      <th>bedrooms</th>\n",
       "      <th>latitude</th>\n",
       "      <th>longitude</th>\n",
       "      <th>square_feet</th>\n",
       "      <th>has_photo</th>\n",
       "      <th>pets_allowed</th>\n",
       "      <th>cityname</th>\n",
       "      <th>price</th>\n",
       "    </tr>\n",
       "  </thead>\n",
       "  <tbody>\n",
       "    <tr>\n",
       "      <th>0</th>\n",
       "      <td>1.0</td>\n",
       "      <td>1.0</td>\n",
       "      <td>33.8520</td>\n",
       "      <td>-118.3759</td>\n",
       "      <td>542</td>\n",
       "      <td>Thumbnail</td>\n",
       "      <td>Cats</td>\n",
       "      <td>Redondo Beach</td>\n",
       "      <td>2195.0</td>\n",
       "    </tr>\n",
       "    <tr>\n",
       "      <th>451</th>\n",
       "      <td>1.0</td>\n",
       "      <td>2.0</td>\n",
       "      <td>33.8520</td>\n",
       "      <td>-118.3759</td>\n",
       "      <td>500</td>\n",
       "      <td>Thumbnail</td>\n",
       "      <td>Cats</td>\n",
       "      <td>Redondo Beach</td>\n",
       "      <td>1995.0</td>\n",
       "    </tr>\n",
       "    <tr>\n",
       "      <th>909</th>\n",
       "      <td>1.0</td>\n",
       "      <td>1.0</td>\n",
       "      <td>33.8520</td>\n",
       "      <td>-118.3759</td>\n",
       "      <td>550</td>\n",
       "      <td>Thumbnail</td>\n",
       "      <td>Cats</td>\n",
       "      <td>Redondo Beach</td>\n",
       "      <td>1895.0</td>\n",
       "    </tr>\n",
       "    <tr>\n",
       "      <th>1321</th>\n",
       "      <td>2.0</td>\n",
       "      <td>2.0</td>\n",
       "      <td>33.8520</td>\n",
       "      <td>-118.3759</td>\n",
       "      <td>905</td>\n",
       "      <td>Thumbnail</td>\n",
       "      <td>Cats,Dogs</td>\n",
       "      <td>Redondo Beach</td>\n",
       "      <td>2859.0</td>\n",
       "    </tr>\n",
       "    <tr>\n",
       "      <th>2106</th>\n",
       "      <td>1.0</td>\n",
       "      <td>2.0</td>\n",
       "      <td>33.8517</td>\n",
       "      <td>-118.3978</td>\n",
       "      <td>325</td>\n",
       "      <td>Thumbnail</td>\n",
       "      <td>Cats</td>\n",
       "      <td>Redondo Beach</td>\n",
       "      <td>1995.0</td>\n",
       "    </tr>\n",
       "  </tbody>\n",
       "</table>\n",
       "</div>"
      ],
      "text/plain": [
       "      bathrooms  bedrooms  latitude  longitude  square_feet  has_photo  \\\n",
       "0           1.0       1.0   33.8520  -118.3759          542  Thumbnail   \n",
       "451         1.0       2.0   33.8520  -118.3759          500  Thumbnail   \n",
       "909         1.0       1.0   33.8520  -118.3759          550  Thumbnail   \n",
       "1321        2.0       2.0   33.8520  -118.3759          905  Thumbnail   \n",
       "2106        1.0       2.0   33.8517  -118.3978          325  Thumbnail   \n",
       "\n",
       "     pets_allowed       cityname   price  \n",
       "0            Cats  Redondo Beach  2195.0  \n",
       "451          Cats  Redondo Beach  1995.0  \n",
       "909          Cats  Redondo Beach  1895.0  \n",
       "1321    Cats,Dogs  Redondo Beach  2859.0  \n",
       "2106         Cats  Redondo Beach  1995.0  "
      ]
     },
     "execution_count": 56,
     "metadata": {},
     "output_type": "execute_result"
    }
   ],
   "source": [
    "X[:5]"
   ]
  },
  {
   "cell_type": "code",
   "execution_count": 57,
   "id": "22035e57",
   "metadata": {},
   "outputs": [
    {
     "data": {
      "text/plain": [
       "0          Orta\n",
       "451       Düşük\n",
       "909       Düşük\n",
       "1321     Yüksek\n",
       "2106      Düşük\n",
       "3210     Yüksek\n",
       "6070     Yüksek\n",
       "6703       Orta\n",
       "7419     Yüksek\n",
       "10283      Orta\n",
       "Name: price_category, dtype: object"
      ]
     },
     "execution_count": 57,
     "metadata": {},
     "output_type": "execute_result"
    }
   ],
   "source": [
    "y[:10]"
   ]
  },
  {
   "cell_type": "markdown",
   "id": "210a6dbd",
   "metadata": {},
   "source": [
    "## Label Encoding"
   ]
  },
  {
   "cell_type": "code",
   "execution_count": 58,
   "id": "e00bba36",
   "metadata": {
    "scrolled": true
   },
   "outputs": [],
   "source": [
    "label_encoder = LabelEncoder()\n",
    "y = label_encoder.fit_transform(y)"
   ]
  },
  {
   "cell_type": "code",
   "execution_count": 59,
   "id": "4c1a41de",
   "metadata": {},
   "outputs": [],
   "source": [
    "for column in ['bedrooms', 'has_photo', 'pets_allowed','cityname']:\n",
    "    X[column] = label_encoder.fit_transform(X[column])"
   ]
  },
  {
   "cell_type": "code",
   "execution_count": 60,
   "id": "79ddef19",
   "metadata": {},
   "outputs": [],
   "source": [
    "X.fillna(X.mean(), inplace=True)"
   ]
  },
  {
   "cell_type": "markdown",
   "id": "fc161b25",
   "metadata": {},
   "source": [
    "## Find NaN values"
   ]
  },
  {
   "cell_type": "code",
   "execution_count": 61,
   "id": "bd022274",
   "metadata": {
    "scrolled": true
   },
   "outputs": [
    {
     "data": {
      "text/plain": [
       "bathrooms       False\n",
       "bedrooms        False\n",
       "latitude        False\n",
       "longitude       False\n",
       "square_feet     False\n",
       "has_photo       False\n",
       "pets_allowed    False\n",
       "cityname        False\n",
       "price           False\n",
       "dtype: bool"
      ]
     },
     "execution_count": 61,
     "metadata": {},
     "output_type": "execute_result"
    }
   ],
   "source": [
    "X.isna().any()"
   ]
  },
  {
   "cell_type": "code",
   "execution_count": 62,
   "id": "975d8dea",
   "metadata": {},
   "outputs": [
    {
     "data": {
      "text/plain": [
       "Series([], dtype: bool)"
      ]
     },
     "execution_count": 62,
     "metadata": {},
     "output_type": "execute_result"
    }
   ],
   "source": [
    "columnsWithNullValues = X.isna().any()\n",
    "columnsWithNullValues = columnsWithNullValues[columnsWithNullValues == True]\n",
    "columnsWithNullValues"
   ]
  },
  {
   "cell_type": "code",
   "execution_count": 63,
   "id": "f5b232b1",
   "metadata": {},
   "outputs": [],
   "source": [
    "# Belirtilen sütunları seçin\n",
    "selected_columns = ['bathrooms', 'bedrooms','latitude', 'longitude']\n",
    "selected_data = X[selected_columns]\n",
    "\n",
    "# NaN veya null değerleri sütun ortalaması ile doldurdum.\n",
    "selected_data.fillna(selected_data.mean(), inplace=True)\n",
    "\n",
    "# Değişiklikleri X DataFrame'ine uygulayın\n",
    "X[selected_columns] = selected_data\n"
   ]
  },
  {
   "cell_type": "markdown",
   "id": "07325260",
   "metadata": {},
   "source": [
    "## Normalizasyon"
   ]
  },
  {
   "cell_type": "code",
   "execution_count": 64,
   "id": "948b81d0",
   "metadata": {},
   "outputs": [
    {
     "data": {
      "text/html": [
       "<div>\n",
       "<style scoped>\n",
       "    .dataframe tbody tr th:only-of-type {\n",
       "        vertical-align: middle;\n",
       "    }\n",
       "\n",
       "    .dataframe tbody tr th {\n",
       "        vertical-align: top;\n",
       "    }\n",
       "\n",
       "    .dataframe thead th {\n",
       "        text-align: right;\n",
       "    }\n",
       "</style>\n",
       "<table border=\"1\" class=\"dataframe\">\n",
       "  <thead>\n",
       "    <tr style=\"text-align: right;\">\n",
       "      <th></th>\n",
       "      <th>bathrooms</th>\n",
       "      <th>bedrooms</th>\n",
       "      <th>latitude</th>\n",
       "      <th>longitude</th>\n",
       "      <th>square_feet</th>\n",
       "      <th>has_photo</th>\n",
       "      <th>pets_allowed</th>\n",
       "      <th>cityname</th>\n",
       "      <th>price</th>\n",
       "    </tr>\n",
       "  </thead>\n",
       "  <tbody>\n",
       "    <tr>\n",
       "      <th>0</th>\n",
       "      <td>1.0</td>\n",
       "      <td>1</td>\n",
       "      <td>33.8520</td>\n",
       "      <td>-118.3759</td>\n",
       "      <td>542</td>\n",
       "      <td>1</td>\n",
       "      <td>0</td>\n",
       "      <td>2202</td>\n",
       "      <td>2195.0</td>\n",
       "    </tr>\n",
       "    <tr>\n",
       "      <th>451</th>\n",
       "      <td>1.0</td>\n",
       "      <td>2</td>\n",
       "      <td>33.8520</td>\n",
       "      <td>-118.3759</td>\n",
       "      <td>500</td>\n",
       "      <td>1</td>\n",
       "      <td>0</td>\n",
       "      <td>2202</td>\n",
       "      <td>1995.0</td>\n",
       "    </tr>\n",
       "    <tr>\n",
       "      <th>909</th>\n",
       "      <td>1.0</td>\n",
       "      <td>1</td>\n",
       "      <td>33.8520</td>\n",
       "      <td>-118.3759</td>\n",
       "      <td>550</td>\n",
       "      <td>1</td>\n",
       "      <td>0</td>\n",
       "      <td>2202</td>\n",
       "      <td>1895.0</td>\n",
       "    </tr>\n",
       "    <tr>\n",
       "      <th>1321</th>\n",
       "      <td>2.0</td>\n",
       "      <td>2</td>\n",
       "      <td>33.8520</td>\n",
       "      <td>-118.3759</td>\n",
       "      <td>905</td>\n",
       "      <td>1</td>\n",
       "      <td>1</td>\n",
       "      <td>2202</td>\n",
       "      <td>2859.0</td>\n",
       "    </tr>\n",
       "    <tr>\n",
       "      <th>2106</th>\n",
       "      <td>1.0</td>\n",
       "      <td>2</td>\n",
       "      <td>33.8517</td>\n",
       "      <td>-118.3978</td>\n",
       "      <td>325</td>\n",
       "      <td>1</td>\n",
       "      <td>0</td>\n",
       "      <td>2202</td>\n",
       "      <td>1995.0</td>\n",
       "    </tr>\n",
       "    <tr>\n",
       "      <th>...</th>\n",
       "      <td>...</td>\n",
       "      <td>...</td>\n",
       "      <td>...</td>\n",
       "      <td>...</td>\n",
       "      <td>...</td>\n",
       "      <td>...</td>\n",
       "      <td>...</td>\n",
       "      <td>...</td>\n",
       "      <td>...</td>\n",
       "    </tr>\n",
       "    <tr>\n",
       "      <th>99338</th>\n",
       "      <td>2.5</td>\n",
       "      <td>3</td>\n",
       "      <td>34.2853</td>\n",
       "      <td>-118.4988</td>\n",
       "      <td>1580</td>\n",
       "      <td>2</td>\n",
       "      <td>5</td>\n",
       "      <td>1003</td>\n",
       "      <td>3295.0</td>\n",
       "    </tr>\n",
       "    <tr>\n",
       "      <th>99352</th>\n",
       "      <td>1.0</td>\n",
       "      <td>2</td>\n",
       "      <td>45.1219</td>\n",
       "      <td>-93.4572</td>\n",
       "      <td>1058</td>\n",
       "      <td>2</td>\n",
       "      <td>5</td>\n",
       "      <td>1969</td>\n",
       "      <td>1280.0</td>\n",
       "    </tr>\n",
       "    <tr>\n",
       "      <th>99361</th>\n",
       "      <td>2.0</td>\n",
       "      <td>2</td>\n",
       "      <td>42.0556</td>\n",
       "      <td>-76.0246</td>\n",
       "      <td>1000</td>\n",
       "      <td>2</td>\n",
       "      <td>5</td>\n",
       "      <td>2730</td>\n",
       "      <td>1500.0</td>\n",
       "    </tr>\n",
       "    <tr>\n",
       "      <th>99385</th>\n",
       "      <td>1.0</td>\n",
       "      <td>2</td>\n",
       "      <td>45.2381</td>\n",
       "      <td>-93.6555</td>\n",
       "      <td>884</td>\n",
       "      <td>2</td>\n",
       "      <td>1</td>\n",
       "      <td>20</td>\n",
       "      <td>995.0</td>\n",
       "    </tr>\n",
       "    <tr>\n",
       "      <th>99416</th>\n",
       "      <td>1.0</td>\n",
       "      <td>8</td>\n",
       "      <td>40.1453</td>\n",
       "      <td>-75.1223</td>\n",
       "      <td>875</td>\n",
       "      <td>2</td>\n",
       "      <td>1</td>\n",
       "      <td>2906</td>\n",
       "      <td>1500.0</td>\n",
       "    </tr>\n",
       "  </tbody>\n",
       "</table>\n",
       "<p>95491 rows × 9 columns</p>\n",
       "</div>"
      ],
      "text/plain": [
       "       bathrooms  bedrooms  latitude  longitude  square_feet  has_photo  \\\n",
       "0            1.0         1   33.8520  -118.3759          542          1   \n",
       "451          1.0         2   33.8520  -118.3759          500          1   \n",
       "909          1.0         1   33.8520  -118.3759          550          1   \n",
       "1321         2.0         2   33.8520  -118.3759          905          1   \n",
       "2106         1.0         2   33.8517  -118.3978          325          1   \n",
       "...          ...       ...       ...        ...          ...        ...   \n",
       "99338        2.5         3   34.2853  -118.4988         1580          2   \n",
       "99352        1.0         2   45.1219   -93.4572         1058          2   \n",
       "99361        2.0         2   42.0556   -76.0246         1000          2   \n",
       "99385        1.0         2   45.2381   -93.6555          884          2   \n",
       "99416        1.0         8   40.1453   -75.1223          875          2   \n",
       "\n",
       "       pets_allowed  cityname   price  \n",
       "0                 0      2202  2195.0  \n",
       "451               0      2202  1995.0  \n",
       "909               0      2202  1895.0  \n",
       "1321              1      2202  2859.0  \n",
       "2106              0      2202  1995.0  \n",
       "...             ...       ...     ...  \n",
       "99338             5      1003  3295.0  \n",
       "99352             5      1969  1280.0  \n",
       "99361             5      2730  1500.0  \n",
       "99385             1        20   995.0  \n",
       "99416             1      2906  1500.0  \n",
       "\n",
       "[95491 rows x 9 columns]"
      ]
     },
     "execution_count": 64,
     "metadata": {},
     "output_type": "execute_result"
    }
   ],
   "source": [
    "X"
   ]
  },
  {
   "cell_type": "code",
   "execution_count": 65,
   "id": "3eed01e7",
   "metadata": {},
   "outputs": [
    {
     "data": {
      "text/html": [
       "<div>\n",
       "<style scoped>\n",
       "    .dataframe tbody tr th:only-of-type {\n",
       "        vertical-align: middle;\n",
       "    }\n",
       "\n",
       "    .dataframe tbody tr th {\n",
       "        vertical-align: top;\n",
       "    }\n",
       "\n",
       "    .dataframe thead th {\n",
       "        text-align: right;\n",
       "    }\n",
       "</style>\n",
       "<table border=\"1\" class=\"dataframe\">\n",
       "  <thead>\n",
       "    <tr style=\"text-align: right;\">\n",
       "      <th></th>\n",
       "      <th>bathrooms</th>\n",
       "      <th>bedrooms</th>\n",
       "      <th>latitude</th>\n",
       "      <th>longitude</th>\n",
       "      <th>square_feet</th>\n",
       "      <th>has_photo</th>\n",
       "      <th>pets_allowed</th>\n",
       "      <th>cityname</th>\n",
       "      <th>price</th>\n",
       "    </tr>\n",
       "  </thead>\n",
       "  <tbody>\n",
       "    <tr>\n",
       "      <th>0</th>\n",
       "      <td>0.000000</td>\n",
       "      <td>0.125</td>\n",
       "      <td>0.315475</td>\n",
       "      <td>0.452516</td>\n",
       "      <td>0.011053</td>\n",
       "      <td>0.5</td>\n",
       "      <td>0.0</td>\n",
       "      <td>0.739422</td>\n",
       "      <td>0.070067</td>\n",
       "    </tr>\n",
       "    <tr>\n",
       "      <th>1</th>\n",
       "      <td>0.000000</td>\n",
       "      <td>0.250</td>\n",
       "      <td>0.315475</td>\n",
       "      <td>0.452516</td>\n",
       "      <td>0.010000</td>\n",
       "      <td>0.5</td>\n",
       "      <td>0.0</td>\n",
       "      <td>0.739422</td>\n",
       "      <td>0.063378</td>\n",
       "    </tr>\n",
       "    <tr>\n",
       "      <th>2</th>\n",
       "      <td>0.000000</td>\n",
       "      <td>0.125</td>\n",
       "      <td>0.315475</td>\n",
       "      <td>0.452516</td>\n",
       "      <td>0.011253</td>\n",
       "      <td>0.5</td>\n",
       "      <td>0.0</td>\n",
       "      <td>0.739422</td>\n",
       "      <td>0.060033</td>\n",
       "    </tr>\n",
       "    <tr>\n",
       "      <th>3</th>\n",
       "      <td>0.133333</td>\n",
       "      <td>0.250</td>\n",
       "      <td>0.315475</td>\n",
       "      <td>0.452516</td>\n",
       "      <td>0.020151</td>\n",
       "      <td>0.5</td>\n",
       "      <td>0.2</td>\n",
       "      <td>0.739422</td>\n",
       "      <td>0.092274</td>\n",
       "    </tr>\n",
       "    <tr>\n",
       "      <th>4</th>\n",
       "      <td>0.000000</td>\n",
       "      <td>0.250</td>\n",
       "      <td>0.315468</td>\n",
       "      <td>0.452275</td>\n",
       "      <td>0.005614</td>\n",
       "      <td>0.5</td>\n",
       "      <td>0.0</td>\n",
       "      <td>0.739422</td>\n",
       "      <td>0.063378</td>\n",
       "    </tr>\n",
       "    <tr>\n",
       "      <th>...</th>\n",
       "      <td>...</td>\n",
       "      <td>...</td>\n",
       "      <td>...</td>\n",
       "      <td>...</td>\n",
       "      <td>...</td>\n",
       "      <td>...</td>\n",
       "      <td>...</td>\n",
       "      <td>...</td>\n",
       "      <td>...</td>\n",
       "    </tr>\n",
       "    <tr>\n",
       "      <th>95486</th>\n",
       "      <td>0.200000</td>\n",
       "      <td>0.375</td>\n",
       "      <td>0.325048</td>\n",
       "      <td>0.451160</td>\n",
       "      <td>0.037069</td>\n",
       "      <td>1.0</td>\n",
       "      <td>1.0</td>\n",
       "      <td>0.336803</td>\n",
       "      <td>0.106856</td>\n",
       "    </tr>\n",
       "    <tr>\n",
       "      <th>95487</th>\n",
       "      <td>0.000000</td>\n",
       "      <td>0.250</td>\n",
       "      <td>0.564482</td>\n",
       "      <td>0.727584</td>\n",
       "      <td>0.023986</td>\n",
       "      <td>1.0</td>\n",
       "      <td>1.0</td>\n",
       "      <td>0.661182</td>\n",
       "      <td>0.039465</td>\n",
       "    </tr>\n",
       "    <tr>\n",
       "      <th>95488</th>\n",
       "      <td>0.133333</td>\n",
       "      <td>0.250</td>\n",
       "      <td>0.496732</td>\n",
       "      <td>0.920016</td>\n",
       "      <td>0.022532</td>\n",
       "      <td>1.0</td>\n",
       "      <td>1.0</td>\n",
       "      <td>0.916723</td>\n",
       "      <td>0.046823</td>\n",
       "    </tr>\n",
       "    <tr>\n",
       "      <th>95489</th>\n",
       "      <td>0.000000</td>\n",
       "      <td>0.250</td>\n",
       "      <td>0.567049</td>\n",
       "      <td>0.725395</td>\n",
       "      <td>0.019625</td>\n",
       "      <td>1.0</td>\n",
       "      <td>0.2</td>\n",
       "      <td>0.006716</td>\n",
       "      <td>0.029933</td>\n",
       "    </tr>\n",
       "    <tr>\n",
       "      <th>95490</th>\n",
       "      <td>0.000000</td>\n",
       "      <td>1.000</td>\n",
       "      <td>0.454524</td>\n",
       "      <td>0.929976</td>\n",
       "      <td>0.019399</td>\n",
       "      <td>1.0</td>\n",
       "      <td>0.2</td>\n",
       "      <td>0.975823</td>\n",
       "      <td>0.046823</td>\n",
       "    </tr>\n",
       "  </tbody>\n",
       "</table>\n",
       "<p>95491 rows × 9 columns</p>\n",
       "</div>"
      ],
      "text/plain": [
       "       bathrooms  bedrooms  latitude  longitude  square_feet  has_photo  \\\n",
       "0       0.000000     0.125  0.315475   0.452516     0.011053        0.5   \n",
       "1       0.000000     0.250  0.315475   0.452516     0.010000        0.5   \n",
       "2       0.000000     0.125  0.315475   0.452516     0.011253        0.5   \n",
       "3       0.133333     0.250  0.315475   0.452516     0.020151        0.5   \n",
       "4       0.000000     0.250  0.315468   0.452275     0.005614        0.5   \n",
       "...          ...       ...       ...        ...          ...        ...   \n",
       "95486   0.200000     0.375  0.325048   0.451160     0.037069        1.0   \n",
       "95487   0.000000     0.250  0.564482   0.727584     0.023986        1.0   \n",
       "95488   0.133333     0.250  0.496732   0.920016     0.022532        1.0   \n",
       "95489   0.000000     0.250  0.567049   0.725395     0.019625        1.0   \n",
       "95490   0.000000     1.000  0.454524   0.929976     0.019399        1.0   \n",
       "\n",
       "       pets_allowed  cityname     price  \n",
       "0               0.0  0.739422  0.070067  \n",
       "1               0.0  0.739422  0.063378  \n",
       "2               0.0  0.739422  0.060033  \n",
       "3               0.2  0.739422  0.092274  \n",
       "4               0.0  0.739422  0.063378  \n",
       "...             ...       ...       ...  \n",
       "95486           1.0  0.336803  0.106856  \n",
       "95487           1.0  0.661182  0.039465  \n",
       "95488           1.0  0.916723  0.046823  \n",
       "95489           0.2  0.006716  0.029933  \n",
       "95490           0.2  0.975823  0.046823  \n",
       "\n",
       "[95491 rows x 9 columns]"
      ]
     },
     "execution_count": 65,
     "metadata": {},
     "output_type": "execute_result"
    }
   ],
   "source": [
    "scaler = MinMaxScaler()\n",
    "X = scaler.fit_transform(X)\n",
    "X = pd.DataFrame(X, columns=features_to_use)\n",
    "X"
   ]
  },
  {
   "cell_type": "markdown",
   "id": "4b5f2054",
   "metadata": {},
   "source": [
    "## Korelasyon matrisi"
   ]
  },
  {
   "cell_type": "code",
   "execution_count": 66,
   "id": "d65785bc",
   "metadata": {
    "scrolled": false
   },
   "outputs": [
    {
     "data": {
      "image/png": "[encoded data removed]",
      "text/plain": [
       "<Figure size 1080x720 with 2 Axes>"
      ]
     },
     "metadata": {
      "needs_background": "light"
     },
     "output_type": "display_data"
    }
   ],
   "source": [
    "corr_matrisi = X.corr()\n",
    "\n",
    "plt.figure(figsize=(15, 10))\n",
    "sns.heatmap(corr_matrisi, annot=True, cmap='coolwarm', fmt=\".2f\")\n",
    "plt.title('Korelasyon Matrisi')\n",
    "plt.show()\n"
   ]
  },
  {
   "cell_type": "markdown",
   "id": "6b714047",
   "metadata": {},
   "source": [
    "# KNN"
   ]
  },
  {
   "cell_type": "code",
   "execution_count": 67,
   "id": "edf1eb37",
   "metadata": {},
   "outputs": [
    {
     "name": "stdout",
     "output_type": "stream",
     "text": [
      "KNN Doğruluk değeri: 0.7045918634483481\n"
     ]
    }
   ],
   "source": [
    "# KNN\n",
    "X_train, X_test, y_train, y_test = train_test_split(X, y, test_size=0.2, random_state=42)\n",
    "knn_model = KNeighborsClassifier(n_neighbors=2)\n",
    "knn_model.fit(X_train, y_train)\n",
    "y_pred_knn = knn_model.predict(X_test)\n",
    "accuracy_knn = accuracy_score(y_test, y_pred_knn)\n",
    "print(\"KNN Doğruluk değeri:\", accuracy_knn)"
   ]
  },
  {
   "cell_type": "markdown",
   "id": "b65afbc6",
   "metadata": {},
   "source": [
    "# Decision Tree"
   ]
  },
  {
   "cell_type": "code",
   "execution_count": 68,
   "id": "2d7a4508",
   "metadata": {},
   "outputs": [
    {
     "name": "stdout",
     "output_type": "stream",
     "text": [
      "Doğruluk değeri: 0.836902455625949\n"
     ]
    }
   ],
   "source": [
    "# Veri setinizi X ve Y değişkenlerine ayırın\n",
    "X_train, X_test, y_train, y_test = train_test_split(X, y, test_size=0.2, random_state=42)\n",
    "\n",
    "# Decision Tree modelini oluşturun ve eğitin\n",
    "decision_tree_model = DecisionTreeClassifier(random_state=42)\n",
    "decision_tree_model.fit(X_train, y_train)\n",
    "\n",
    "# Test verilerini kullanarak tahmin yapın\n",
    "y_pred = decision_tree_model.predict(X_test)\n",
    "\n",
    "# Doğruluk değerini hesaplayın ve ekrana bastırın\n",
    "accuracy_dt = accuracy_score(y_test, y_pred)\n",
    "print(\"Doğruluk değeri:\", accuracy_dt)"
   ]
  },
  {
   "cell_type": "markdown",
   "id": "f0fc1d7e",
   "metadata": {},
   "source": [
    "# Naive Bayes"
   ]
  },
  {
   "cell_type": "code",
   "execution_count": 69,
   "id": "4bf47f93",
   "metadata": {},
   "outputs": [
    {
     "name": "stdout",
     "output_type": "stream",
     "text": [
      "Doğruluk değeri: 0.4611236190376459\n"
     ]
    }
   ],
   "source": [
    "X_train, X_test, y_train, y_test = train_test_split(X, y, test_size=0.2, random_state=42)\n",
    "\n",
    "# Naive Bayes modelini oluşturun ve eğitin\n",
    "nb_model = GaussianNB()\n",
    "nb_model.fit(X_train, y_train)\n",
    "\n",
    "# Test verilerini kullanarak tahmin yapın\n",
    "y_pred = nb_model.predict(X_test)\n",
    "\n",
    "# Doğruluk değerini hesaplayın ve ekrana bastırın\n",
    "accuracy_nb = accuracy_score(y_test, y_pred)\n",
    "print(\"Doğruluk değeri:\", accuracy_nb)"
   ]
  },
  {
   "cell_type": "markdown",
   "id": "d0ae6d3f",
   "metadata": {},
   "source": [
    "# Lojistik Regresyon"
   ]
  },
  {
   "cell_type": "code",
   "execution_count": 70,
   "id": "e0ec8c36",
   "metadata": {},
   "outputs": [
    {
     "name": "stdout",
     "output_type": "stream",
     "text": [
      "Doğruluk değeri: 0.45991936750615214\n"
     ]
    }
   ],
   "source": [
    "from sklearn.linear_model import LogisticRegression\n",
    "\n",
    "\n",
    "# Veri setinizi X ve Y değişkenlerine ayırın\n",
    "X_train, X_test, y_train, y_test = train_test_split(X, y, test_size=0.2, random_state=42)\n",
    "\n",
    "# Lojistik Regresyon modelini oluşturun ve eğitin\n",
    "logreg_model = LogisticRegression(random_state=42)\n",
    "logreg_model.fit(X_train, y_train)\n",
    "\n",
    "# Test verilerini kullanarak tahmin yapın\n",
    "y_pred = logreg_model.predict(X_test)\n",
    "\n",
    "# Doğruluk değerini hesaplayın ve ekrana bastırın\n",
    "accuracy_lr = accuracy_score(y_test, y_pred)\n",
    "print(\"Doğruluk değeri:\", accuracy_lr)\n"
   ]
  },
  {
   "cell_type": "markdown",
   "id": "46213b98",
   "metadata": {},
   "source": [
    "# Random Forest"
   ]
  },
  {
   "cell_type": "code",
   "execution_count": 71,
   "id": "de5e0915",
   "metadata": {},
   "outputs": [
    {
     "name": "stdout",
     "output_type": "stream",
     "text": [
      "Doğruluk değeri: 0.86397193570344\n"
     ]
    }
   ],
   "source": [
    "from sklearn.ensemble import RandomForestClassifier\n",
    "X_train, X_test, y_train, y_test = train_test_split(X, y, test_size=0.2, random_state=42)\n",
    "\n",
    "# Random Forest modelini oluşturun ve eğitin\n",
    "rf_model = RandomForestClassifier(random_state=42)\n",
    "rf_model.fit(X_train, y_train)\n",
    "\n",
    "# Test verilerini kullanarak tahmin yapın\n",
    "y_pred = rf_model.predict(X_test)\n",
    "\n",
    "# Doğruluk değerini hesaplayın ve ekrana bastırın\n",
    "accuracy_rf = accuracy_score(y_test, y_pred)\n",
    "print(\"Doğruluk değeri:\", accuracy_rf)"
   ]
  },
  {
   "cell_type": "markdown",
   "id": "e36241f6",
   "metadata": {},
   "source": [
    "# Model performansını kıyaslayan bar grafiği"
   ]
  },
  {
   "cell_type": "code",
   "execution_count": 72,
   "id": "58935fc0",
   "metadata": {
    "scrolled": true
   },
   "outputs": [
    {
     "data": {
      "image/png": "[encoded data removed]",
      "text/plain": [
       "<Figure size 720x432 with 1 Axes>"
      ]
     },
     "metadata": {
      "needs_background": "light"
     },
     "output_type": "display_data"
    }
   ],
   "source": [
    "\n",
    "model_names = [\"KNN\", \"Decision Tree\", \"Naive Bayes\", \"Logistic Regression\", \"Random Forest\"]\n",
    "accuracies = [accuracy_knn, accuracy_dt, accuracy_nb,accuracy_lr,accuracy_rf]\n",
    "\n",
    "plt.figure(figsize=(10, 6))\n",
    "sns.barplot(x=model_names, y=accuracies)\n",
    "plt.xlabel('Modeller')\n",
    "plt.ylabel('Doğruluk')\n",
    "plt.title('Model Performans Karşılaştırması')\n",
    "plt.show()"
   ]
  },
  {
   "cell_type": "code",
   "execution_count": null,
   "id": "2282bceb",
   "metadata": {},
   "outputs": [],
   "source": []
  },
  {
   "cell_type": "code",
   "execution_count": null,
   "id": "3e484f52",
   "metadata": {},
   "outputs": [],
   "source": []
  },
  {
   "cell_type": "code",
   "execution_count": null,
   "id": "e8327c0c",
   "metadata": {},
   "outputs": [],
   "source": []
  }
 ],
 "metadata": {
  "kernelspec": {
   "display_name": "Python 3 (ipykernel)",
   "language": "python",
   "name": "python3"
  },
  "language_info": {
   "codemirror_mode": {
    "name": "ipython",
    "version": 3
   },
   "file_extension": ".py",
   "mimetype": "text/x-python",
   "name": "python",
   "nbconvert_exporter": "python",
   "pygments_lexer": "ipython3",
   "version": "3.9.12"
  }
 },
 "nbformat": 4,
 "nbformat_minor": 5
}
